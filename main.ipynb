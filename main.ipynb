{
  "nbformat": 4,
  "nbformat_minor": 0,
  "metadata": {
    "colab": {
      "provenance": []
    },
    "kernelspec": {
      "name": "python3",
      "display_name": "Python 3"
    },
    "language_info": {
      "name": "python"
    }
  },
  "cells": [
    {
      "cell_type": "markdown",
      "source": [
        "# Image classification to predict deforestation type\n",
        "\n",
        "Event: [Schneider Electric European Hackaton](https://nuwe.io/dev/event/schneider-electric-european-hackathon)\n",
        "\n",
        "Category: Data Science challenge\n",
        "\n",
        "Challenge: [Zero deforestation mission](https://nuwe.io/dev/challenges/data-science-se-european)\n",
        "\n",
        "Author: [Sergi Salido](https://github.com/SergiSalido)\n",
        "\n",
        "Date: 2022-11-19\n",
        "\n",
        "<font color='yellow'>This Jupyter Notebook can be executed in a [Google Colab]().</font>\n"
      ],
      "metadata": {
        "id": "5-UK-Qy4QvWJ"
      }
    },
    {
      "cell_type": "markdown",
      "source": [
        "## Challenge goal\n",
        "The challenge consists in creating an image classification model, which from a given dataset, **predicts what type of deforestation appears in the image with the objective of early detection of this type of actions in protected lands**.\n",
        "\n",
        "## Tasks\n",
        "1. Explore the data\n",
        "1. Create an image classification predictive model\n",
        "1. Train the model with the training images\n",
        "1. Find the model that maximizes the F1-score (macro.)\n",
        "1. Test the model to classify the testing images\n",
        "1. Evaluate the F1-score of the model with the test images\n",
        "\n",
        "## Datasets\n",
        "The following resources are provided to complete the challenge:\n",
        "* A training 'csv' files that relate the ID of the images to their features and classes.\n",
        "* A testing 'csv' files that relate the ID of the images to their features.\n",
        "* A zip file containing a few thousand training and testing images. This zip file has a weight of 309MB."
      ],
      "metadata": {
        "id": "llahSbQfZMke"
      }
    },
    {
      "cell_type": "markdown",
      "source": [
        "## Table of contents\n",
        "<nav>\n",
        "* [Import libraries](#import_libraries)\n",
        "* [Import datasets and data preprocessing](#import_data)\n",
        "* [Task 1: EDA](#task1)\n",
        "* [Task 2: Pedictive model](#task2)\n",
        "</nav>"
      ],
      "metadata": {
        "id": "ppZdGOb2jkT-"
      }
    },
    {
      "cell_type": "code",
      "source": [],
      "metadata": {
        "id": "5fdU98rLm3tf"
      },
      "execution_count": null,
      "outputs": []
    },
    {
      "cell_type": "markdown",
      "source": [
        "<a id=\"1\"></a>\n",
        "## Import libraries"
      ],
      "metadata": {
        "id": "BIHyGLoNj-rn"
      }
    },
    {
      "cell_type": "code",
      "source": [],
      "metadata": {
        "id": "WM1SZ_hKkZF9"
      },
      "execution_count": null,
      "outputs": []
    },
    {
      "cell_type": "markdown",
      "source": [
        "<a id=\"2\"></a>\n",
        "## Exploratory Data Analysis (EDA)"
      ],
      "metadata": {
        "id": "pjHm4moxSjyR"
      }
    },
    {
      "cell_type": "code",
      "execution_count": null,
      "metadata": {
        "id": "uISlOdrJKCXe"
      },
      "outputs": [],
      "source": []
    },
    {
      "cell_type": "markdown",
      "source": [],
      "metadata": {
        "id": "4oRbRPKKlCqW"
      }
    }
  ]
}